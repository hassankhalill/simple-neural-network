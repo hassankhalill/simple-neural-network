{
  "nbformat": 4,
  "nbformat_minor": 0,
  "metadata": {
    "colab": {
      "provenance": []
    },
    "kernelspec": {
      "name": "python3",
      "display_name": "Python 3"
    },
    "language_info": {
      "name": "python"
    }
  },
  "cells": [
    {
      "cell_type": "code",
      "execution_count": null,
      "metadata": {
        "id": "bCsu_7581G-T"
      },
      "outputs": [],
      "source": []
    },
    {
      "cell_type": "markdown",
      "source": [
        "This notebook implements a simple feed-forward neural network to classify the Iris dataset using TensorFlow and Keras. The network is trained to classify iris flowers into three species: Setosa, Versicolor, and Virginica.\n"
      ],
      "metadata": {
        "id": "XQKbQvN01PQD"
      }
    },
    {
      "cell_type": "code",
      "source": [
        "import tensorflow as tf\n",
        "from sklearn.datasets import load_iris\n",
        "from sklearn.model_selection import train_test_split\n",
        "from sklearn.preprocessing import StandardScaler\n",
        "from sklearn.metrics import accuracy_score\n",
        "import numpy as np\n"
      ],
      "metadata": {
        "id": "SfPUi6az1gRD"
      },
      "execution_count": null,
      "outputs": []
    },
    {
      "cell_type": "code",
      "source": [
        "# Class to load and preprocess the Iris dataset\n",
        "class IrisDataset:\n",
        "    def __init__(self):\n",
        "        # Load and preprocess the dataset\n",
        "        self.data, self.targets = load_iris(return_X_y=True)\n",
        "        self.scaler = StandardScaler()\n",
        "        self.data = self.scaler.fit_transform(self.data)\n",
        "\n",
        "    def get_data(self, test_size=0.2):\n",
        "        \"\"\"Splits data into training and test sets.\"\"\"\n",
        "        X_train, X_test, y_train, y_test = train_test_split(self.data, self.targets, test_size=test_size, random_state=42)\n",
        "        return X_train, X_test, y_train, y_test\n",
        "\n",
        "# Instantiate the dataset and split into training and testing sets\n",
        "dataset = IrisDataset()\n",
        "X_train, X_test, y_train, y_test = dataset.get_data()\n"
      ],
      "metadata": {
        "id": "eebyAqh21k8C"
      },
      "execution_count": null,
      "outputs": []
    },
    {
      "cell_type": "markdown",
      "source": [
        "The Iris dataset is a classic dataset in machine learning. It contains 150 samples with four features each:\n",
        "- Sepal length\n",
        "- Sepal width\n",
        "- Petal length\n",
        "- Petal width\n",
        "\n",
        "The target labels are the species of iris flower: Setosa, Versicolor, and Virginica.\n"
      ],
      "metadata": {
        "id": "GnsLRopM1lxD"
      }
    },
    {
      "cell_type": "code",
      "source": [
        "# Define a simple neural network model using Keras\n",
        "class SimpleNeuralNetwork(tf.keras.Model):\n",
        "    def __init__(self, input_size, hidden_size, output_size):\n",
        "        super(SimpleNeuralNetwork, self).__init__()\n",
        "        self.fc1 = tf.keras.layers.Dense(hidden_size, activation='relu', input_shape=(input_size,))\n",
        "        self.fc2 = tf.keras.layers.Dense(output_size, activation='softmax')\n",
        "\n",
        "    def call(self, inputs):\n",
        "        x = self.fc1(inputs)\n",
        "        return self.fc2(x)\n",
        "\n",
        "# Hyperparameters for the model\n",
        "input_size = 4       # Number of features in Iris dataset\n",
        "hidden_size = 10     # Size of hidden layer\n",
        "output_size = 3      # Number of classes (3 types of iris flowers)\n",
        "epochs = 100         # Number of training epochs\n",
        "\n",
        "# Initialize the model\n",
        "model = SimpleNeuralNetwork(input_size, hidden_size, output_size)\n"
      ],
      "metadata": {
        "id": "P90o2I9w1q1s"
      },
      "execution_count": null,
      "outputs": []
    },
    {
      "cell_type": "markdown",
      "source": [
        "\n",
        "The neural network consists of:\n",
        "- An input layer with 4 nodes (one for each feature).\n",
        "- A hidden layer with 10 nodes and ReLU activation.\n",
        "- An output layer with 3 nodes (one for each class) and softmax activation to produce probability distributions.\n"
      ],
      "metadata": {
        "id": "qUBbPuIA1tCv"
      }
    },
    {
      "cell_type": "code",
      "source": [
        "def train(model, X_train, y_train, epochs=100, batch_size=16):\n",
        "    model.compile(optimizer='adam', loss='sparse_categorical_crossentropy', metrics=['accuracy'])\n",
        "    history = model.fit(X_train, y_train, epochs=epochs, batch_size=batch_size, verbose=1)\n",
        "    return history\n",
        "\n",
        "# Train the model\n",
        "history = train(model, X_train, y_train, epochs)\n"
      ],
      "metadata": {
        "id": "BKV7CBWh1v3Z"
      },
      "execution_count": null,
      "outputs": []
    },
    {
      "cell_type": "code",
      "source": [
        "# Function to evaluate the model\n",
        "def evaluate(model, X_test, y_test):\n",
        "    predictions = np.argmax(model.predict(X_test), axis=1)\n",
        "    accuracy = accuracy_score(y_test, predictions)\n",
        "    print(f\"Test Accuracy: {accuracy * 100:.2f}%\")\n",
        "    return accuracy\n",
        "\n",
        "# Evaluate the model\n",
        "evaluate(model, X_test, y_test)\n"
      ],
      "metadata": {
        "id": "pV2xUHeV1yX_"
      },
      "execution_count": null,
      "outputs": []
    },
    {
      "cell_type": "markdown",
      "source": [
        "The model is evaluated on the test set, and accuracy is calculated to determine its performance in classifying the iris species.\n"
      ],
      "metadata": {
        "id": "nLYHlHMW10mj"
      }
    },
    {
      "cell_type": "markdown",
      "source": [
        "Visualize Training Results"
      ],
      "metadata": {
        "id": "l4-vwoPV15w4"
      }
    },
    {
      "cell_type": "code",
      "source": [
        "import matplotlib.pyplot as plt\n",
        "\n",
        "# Plot training accuracy over epochs\n",
        "plt.plot(history.history['accuracy'], label='Training Accuracy')\n",
        "plt.xlabel('Epoch')\n",
        "plt.ylabel('Accuracy')\n",
        "plt.title('Training Accuracy over Epochs')\n",
        "plt.legend()\n",
        "plt.show()\n"
      ],
      "metadata": {
        "id": "YJ-xzHrW17oL"
      },
      "execution_count": null,
      "outputs": []
    },
    {
      "cell_type": "markdown",
      "source": [
        "The plot shows the training accuracy over epochs. This helps in understanding how well the model learned during the training process.\n"
      ],
      "metadata": {
        "id": "dyj29vp919VR"
      }
    },
    {
      "cell_type": "markdown",
      "source": [
        "This notebook demonstrates a simple feed-forward neural network applied to the Iris dataset. The model achieved an accuracy of approximately [X]% on the test set, indicating its ability to classify iris species based on the given features.\n",
        "\n",
        "Possible improvements could include:\n",
        "- Adding more hidden layers or nodes to increase model complexity.\n",
        "- Experimenting with different activation functions and optimizers.\n",
        "- Applying hyperparameter tuning to find the optimal batch size and learning rate.\n"
      ],
      "metadata": {
        "id": "rVMjWk722ANl"
      }
    }
  ]
}